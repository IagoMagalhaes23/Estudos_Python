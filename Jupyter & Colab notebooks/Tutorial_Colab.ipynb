{
  "nbformat": 4,
  "nbformat_minor": 0,
  "metadata": {
    "colab": {
      "provenance": [],
      "gpuType": "T4"
    },
    "kernelspec": {
      "name": "python3",
      "display_name": "Python 3"
    },
    "language_info": {
      "name": "python"
    },
    "accelerator": "GPU",
    "gpuClass": "standard"
  },
  "cells": [
    {
      "cell_type": "markdown",
      "source": [
        "# Tutorial de uso do Google Colab\n",
        "\n",
        "### Este colab tem como objetivo apresentar alguns comandos simples de formatação de texto, uso de celulas e configurações do notebook para á área de ciência de dados."
      ],
      "metadata": {
        "id": "-XcQTsSx3u7x"
      }
    },
    {
      "cell_type": "markdown",
      "source": [
        "# Formatar cabeçalhos com '#'\n",
        "\n",
        "# Cabeçalho 1\n",
        "## Cabeçalho 2\n",
        "### Cabeçalho 3\n",
        "#### Cabeçalho 4\n",
        "##### Cabeçalho 5\n",
        "###### Cabeçalho 6"
      ],
      "metadata": {
        "id": "UdKdeArL4Fmb"
      }
    },
    {
      "cell_type": "markdown",
      "source": [
        "# Criando listas\n",
        "\n",
        "## Listas:\n",
        "- Tópico 1\n",
        "- Tópico 2\n",
        "- Tópico 3\n",
        "- Tópico 4\n",
        "\n",
        "## Listas ordernada:\n",
        "1.   Item da lista\n",
        "2.   Item da lista\n",
        "3.   Item da lista\n",
        "4.   Item da lista\n",
        "\n",
        "> Bloco com recuo - Exemplo de recuo de texto\n",
        "\n",
        "*texto em itálico* -Exemplo de texto em itálico\n",
        "\n",
        "**negrito** - Exemplo de texto em negrito"
      ],
      "metadata": {
        "id": "319ixjC64ZgB"
      }
    },
    {
      "cell_type": "markdown",
      "source": [
        "# Usando a GPU\n",
        "## Passo a passo:\n",
        "1. Menu 'Editar';\n",
        "2. Configurações de notebook;\n",
        "3. Selecionar GPU em acelerador de hardware;\n",
        "4. salvar."
      ],
      "metadata": {
        "id": "SBAyWMyw5Iji"
      }
    }
  ]
}